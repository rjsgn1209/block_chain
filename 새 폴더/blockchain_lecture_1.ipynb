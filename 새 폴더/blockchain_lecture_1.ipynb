{
 "cells": [
  {
   "cell_type": "code",
   "execution_count": 1,
   "id": "d703ed79",
   "metadata": {},
   "outputs": [],
   "source": [
    "import hashlib"
   ]
  },
  {
   "cell_type": "code",
   "execution_count": null,
   "id": "850e7d3b",
   "metadata": {},
   "outputs": [],
   "source": []
  },
  {
   "cell_type": "code",
   "execution_count": null,
   "id": "97a7c797",
   "metadata": {},
   "outputs": [],
   "source": [
    "# 암호화"
   ]
  },
  {
   "cell_type": "code",
   "execution_count": 2,
   "id": "0f5633b7",
   "metadata": {},
   "outputs": [],
   "source": [
    "h = hashlib.sha256()"
   ]
  },
  {
   "cell_type": "code",
   "execution_count": 3,
   "id": "51ac8719",
   "metadata": {},
   "outputs": [],
   "source": [
    "h.update(b'Genesis')"
   ]
  },
  {
   "cell_type": "code",
   "execution_count": 4,
   "id": "8d453828",
   "metadata": {},
   "outputs": [
    {
     "data": {
      "text/plain": [
       "'81ddc8d248b2dccdd3fdd5e84f0cad62b08f2d10b57f9a831c13451e5c5c80a5'"
      ]
     },
     "execution_count": 4,
     "metadata": {},
     "output_type": "execute_result"
    }
   ],
   "source": [
    "h.hexdigest()"
   ]
  },
  {
   "cell_type": "code",
   "execution_count": null,
   "id": "c34d4050",
   "metadata": {},
   "outputs": [],
   "source": []
  },
  {
   "cell_type": "code",
   "execution_count": 5,
   "id": "8fee36aa",
   "metadata": {},
   "outputs": [
    {
     "data": {
      "text/plain": [
       "'e6a4ed451a056b92e6448a5fae97f00a4e601569ef0b934ef1afd37026754739'"
      ]
     },
     "execution_count": 5,
     "metadata": {},
     "output_type": "execute_result"
    }
   ],
   "source": [
    "h.update(b'Genesiis')\n",
    "h.hexdigest()"
   ]
  },
  {
   "cell_type": "code",
   "execution_count": null,
   "id": "0ca2cbe3",
   "metadata": {},
   "outputs": [],
   "source": []
  },
  {
   "cell_type": "code",
   "execution_count": null,
   "id": "d6a854aa",
   "metadata": {},
   "outputs": [],
   "source": []
  },
  {
   "cell_type": "code",
   "execution_count": 6,
   "id": "bc3cee22",
   "metadata": {},
   "outputs": [],
   "source": [
    "import os\n",
    "\n",
    "def save_passwd():\n",
    "    with open('passwd.txt', 'w') as f:\n",
    "        passwd = input('패스워드를 입력하세요')\n",
    "        result = hashlib.sha256(passwd.encode())\n",
    "        f.write(result.hexdigest())"
   ]
  },
  {
   "cell_type": "code",
   "execution_count": 7,
   "id": "ccffa509",
   "metadata": {},
   "outputs": [
    {
     "name": "stdout",
     "output_type": "stream",
     "text": [
      "패스워드를 입력하세요1234\n"
     ]
    }
   ],
   "source": [
    "save_passwd()"
   ]
  },
  {
   "cell_type": "code",
   "execution_count": null,
   "id": "82da7d2b",
   "metadata": {},
   "outputs": [],
   "source": []
  },
  {
   "cell_type": "code",
   "execution_count": 12,
   "id": "1eb562ba",
   "metadata": {},
   "outputs": [],
   "source": [
    "def check_passwd():\n",
    "    if os.path.exists('passwd.txt'):\n",
    "        before_passwd = input('기존의 비밀번호를 입력하세요')\n",
    "        m = hashlib.sha256()\n",
    "        m.update(before_passwd.encode('utf_8'))\n",
    "        \n",
    "        with open('passwd.txt', 'r') as f:\n",
    "            comp = str(m.hexdigest()).strip() == str(f.read()).strip()\n",
    "            return comp\n",
    "    else:\n",
    "        return True"
   ]
  },
  {
   "cell_type": "code",
   "execution_count": null,
   "id": "b3b8b44d",
   "metadata": {},
   "outputs": [],
   "source": []
  },
  {
   "cell_type": "code",
   "execution_count": 13,
   "id": "42095dd1",
   "metadata": {},
   "outputs": [
    {
     "name": "stdout",
     "output_type": "stream",
     "text": [
      "기존의 비밀번호를 입력하세요2344\n"
     ]
    },
    {
     "data": {
      "text/plain": [
       "False"
      ]
     },
     "execution_count": 13,
     "metadata": {},
     "output_type": "execute_result"
    }
   ],
   "source": [
    "check_passwd()"
   ]
  },
  {
   "cell_type": "code",
   "execution_count": null,
   "id": "89bd69a6",
   "metadata": {},
   "outputs": [],
   "source": []
  },
  {
   "cell_type": "code",
   "execution_count": 14,
   "id": "d5135d85",
   "metadata": {},
   "outputs": [],
   "source": [
    "def change_passwd():\n",
    "    if check_passwd():\n",
    "        with open('passwd.txt', 'w') as f:\n",
    "            passwd = input('새로운 비밀번호를 입력하세요')\n",
    "            result = hashlib.sha256(passwd.encode())\n",
    "            f.write(result.hexdigest())\n",
    "    else:\n",
    "        print('비밀번호가 틀립니다')"
   ]
  },
  {
   "cell_type": "code",
   "execution_count": 16,
   "id": "ced2d114",
   "metadata": {},
   "outputs": [
    {
     "name": "stdout",
     "output_type": "stream",
     "text": [
      "기존의 비밀번호를 입력하세요1234\n",
      "새로운 비밀번호를 입력하세요1234\n"
     ]
    }
   ],
   "source": [
    "change_passwd()"
   ]
  },
  {
   "cell_type": "code",
   "execution_count": null,
   "id": "6118c657",
   "metadata": {},
   "outputs": [],
   "source": []
  },
  {
   "cell_type": "code",
   "execution_count": 17,
   "id": "a6ab9fb0",
   "metadata": {},
   "outputs": [],
   "source": [
    "text = '''\n",
    "윤석열 대통령과 조 바이든 미국 대통령은 정상회담에서 한미상호방위조약에 따른 한국 방어와 한미 연합방위태세에 대한 상호 공조를 재확인했다.\n",
    "바이든 대통령은 핵, 재래식 및 미사일 방어능력을 포함해 가용한 모든 범주의 방어역량을 사용한 미국의 한국에 대한 확장억제를 공약했다.\n",
    "이와 함께 반도체를 비롯한 핵심·신흥기술 파트너십 증진과 글로벌 공급망 협력 강화, 경제안보 채널 협력에도 나서기로 했다.\n",
    "한반도를 넘어 글로벌 현안에서 협력하는 '포괄적 전략 동맹'을 천명하며 인도·태평양 경제 프레임워크(IPEF)를 통한 역내 질서 구축을 골자로 한 정상회담 결과를 내놨다.\n",
    "윤 대통령과 바이든 대통령은 21일 오후 서울 용산 대통령실 청사에서 정상회담을 한 뒤 발표한 '한미 정상 공동성명'에서 이같이 밝혔다.\n",
    "양국 정상은 경제안보를 중심으로 새로운 한미동맹 관계를 구축하고 국제질서 변화에 따른 시장 충격에도 함께 대응하기로 했다. 이를 위해 대통령실 간 경제안보대화를 신설, 공급망과 첨단 과학기술 등 경제안보 분야에서 양국이 수시로 소통하고 협력할 방침이다.\n",
    "특히 윤 대통령은 \"한미동맹을 글로벌 포괄적 전략 동맹으로 발전시켜 나간다는 목표를 공유했다\"고 강조했다. 그는 \"이제 북한의 비핵화란 오랜 과제와 팬데믹(세계적 대유행) 위기, 교역질서 변화와 공급망 재편, 기후변화, 민주주의 위기 등 새로운 과제에 직면했다\"며 \"포괄적 전략 동맹으로서 이런 과제에 함께 대응할 것\"이라고 밝혔다.\n",
    "이번 회담에서 두 정상은 북한 도발에 대한 확장 억제 공약을 재확인하고 고위급 확장억제전략협의체(EDSCG)를 재가동하기로 합의했다.\n",
    "윤 대통령은 \"그 첫걸음이 IPEF 참여\"라고 말했고, 바이든 대통령은 \"지금 한미동맹이 어느 때보다 강력하고 생기와 활력 넘치는 때\"라고 화답했다.\n",
    "'''"
   ]
  },
  {
   "cell_type": "code",
   "execution_count": 18,
   "id": "ac563346",
   "metadata": {},
   "outputs": [
    {
     "name": "stdout",
     "output_type": "stream",
     "text": [
      "ec086cc223dad7d16e16d74ed1347e7e032f1a715bc1b0f6f2d8bd7fc2ff8dab\n"
     ]
    }
   ],
   "source": [
    "m = hashlib.sha256()\n",
    "m.update(text.encode('utf_8'))\n",
    "print(m.hexdigest())"
   ]
  },
  {
   "cell_type": "code",
   "execution_count": 19,
   "id": "2188107e",
   "metadata": {},
   "outputs": [],
   "source": [
    "text = '''\n",
    "윤석열 대통령과 조 바이든 미국 대통령은 정상회담에서 한미상호방위조약에 따른 한국 방어와 한미 연합방위태세에 대한 상호 공조를 재확인했다.\n",
    "바이든 대통령은 핵, 재래식 및 미사일 방어능력을 포함해 가용한 모든 범주의 방어역량을 사용한 미국의 한국에 대한 확장억제를 공약했다.\n",
    "이와 함께 반도체를 비롯한 핵심·신흥기술 파트너십 증진과 글로벌 공급망 협력 강화, 경제안보 채널 협력에도 나서기로 했다.\n",
    "한반도를 넘어 글로벌 현안에서 협력하는 '포괄적 전략 동맹'을 천명하며 인도·태평양 경제 프레임워크(IPEF)를 통한 역내 질서 구축을 골자로 한 정상회담 결과를 내놨다.\n",
    "윤 대통령과 바이든 대통령은 21일 오후 서울 용산 대통령실 청사에서 정상회담을 한 뒤 발표한 '한미 정상 공동성명'에서 이같이 밝혔다.\n",
    "양국 정상은 경제안보를 중심으로 새로운 한미동맹 관계를 구축하고 국제질서 변화에 따른 시장 충격에도 함께 대응하기로 했다. 이를 위해 대통령실 간 경제안보대화를 신설, 공급망과 첨단 과학기술 등 경제안보 분야에서 양국이 수시로 소통하고 협력할 방침이다.\n",
    "특히 윤 대통령은 \"한미동맹을 글로벌 포괄적 전략 동맹으로 발전시켜 나간다는 목표를 공유했다\"고 강조했다. 그는 \"이제 북한의 비핵화란 오랜 과제와 팬데믹(세계적 대유행) 위기, 교역질서 변화와 공급망 재편, 기후변화, 민주주의 위기 등 새로운 과제에 직면했다\"며 \"포괄적 전략 동맹으로서 이런 과제에 함께 대응할 것\"이라고 밝혔다.\n",
    "이번 회담에서 두 정상은 북한 도발에 대한 확장 억제 공약을 재확인하고 고위급 확장억제전략협의체(EDSCG)를 재가동하기로 합의했다.\n",
    "윤 대통령은 \"그 첫걸음이 IPEF 참여\"라고 말했고, 바이든 대통령은 \"지금 한미동맹이 어느 때보다 강력하고 생기와 활력 넘치는 때\"라고 화답했다다.\n",
    "'''"
   ]
  },
  {
   "cell_type": "code",
   "execution_count": 20,
   "id": "235bbed3",
   "metadata": {},
   "outputs": [
    {
     "name": "stdout",
     "output_type": "stream",
     "text": [
      "08415d7ab5757d940fa5d52965ec60957e9ec1a3c7afb5437d139326b4d49b68\n"
     ]
    }
   ],
   "source": [
    "m = hashlib.sha256()\n",
    "m.update(text.encode('utf_8'))\n",
    "print(m.hexdigest())"
   ]
  },
  {
   "cell_type": "code",
   "execution_count": null,
   "id": "84511f34",
   "metadata": {},
   "outputs": [],
   "source": []
  },
  {
   "cell_type": "code",
   "execution_count": null,
   "id": "9a5f978b",
   "metadata": {},
   "outputs": [],
   "source": []
  },
  {
   "cell_type": "code",
   "execution_count": 21,
   "id": "e64cdf7b",
   "metadata": {},
   "outputs": [],
   "source": [
    "# 채굴 (minning)\n",
    "\n",
    "# 특정한 조건을 만족하는 hash값을 찾는 연산을 반복하는 것..\n",
    "# 채굴에 성공한 경우에만 블록에 채인에 연결이 됨...\n",
    "# 채굴에 성고하면 보상으로 코인을 받는다.."
   ]
  },
  {
   "cell_type": "code",
   "execution_count": 25,
   "id": "9949c5ab",
   "metadata": {},
   "outputs": [
    {
     "name": "stdout",
     "output_type": "stream",
     "text": [
      "Hash : 00000006be2e996c5cc92f8494bbff4d466b059c9b98449390e1c1083d20a513\n",
      "Nounce : 57893727\n",
      "Minning took 108.75109362602234s!\n"
     ]
    }
   ],
   "source": [
    "from hashlib import sha256\n",
    "import time\n",
    "\n",
    "max_nounce = int(1e10)\n",
    "difficulty = 7\n",
    "\n",
    "block_number = 667745\n",
    "\n",
    "transactions = \"\"\"\n",
    "A -> B : 10\n",
    "D -> A : 99\n",
    "C -> Z : 1\n",
    "\"\"\"\n",
    "\n",
    "previous_hash = '08415d7ab5757d940fa5d52965ec60957e9ec1a3c7afb5437d139326b4d49b68'\n",
    "\n",
    "new_hash = None\n",
    "\n",
    "st_time = time.time()\n",
    "\n",
    "for nounce in range(max_nounce):\n",
    "    block_header = str(block_number) + transactions + previous_hash + str(nounce)\n",
    "    new_hash = sha256(block_header.encode('ascii')).hexdigest()\n",
    "    \n",
    "    if new_hash.startswith('0'*difficulty):\n",
    "        print(f'Hash : {new_hash}')\n",
    "        print(f'Nounce : {nounce}')\n",
    "        break\n",
    "        \n",
    "if new_hash is None:\n",
    "    print('cannot find new hash')\n",
    "    \n",
    "print(f'Minning took {time.time() - st_time}s!')"
   ]
  },
  {
   "cell_type": "code",
   "execution_count": null,
   "id": "cd6beacb",
   "metadata": {},
   "outputs": [],
   "source": []
  },
  {
   "cell_type": "code",
   "execution_count": null,
   "id": "070dfe7d",
   "metadata": {},
   "outputs": [],
   "source": []
  },
  {
   "cell_type": "code",
   "execution_count": null,
   "id": "c5320678",
   "metadata": {},
   "outputs": [],
   "source": []
  },
  {
   "cell_type": "code",
   "execution_count": null,
   "id": "b4543899",
   "metadata": {},
   "outputs": [],
   "source": [
    "# chain 구성\n",
    "# transaction > block > 채굴 > chain 추가"
   ]
  },
  {
   "cell_type": "code",
   "execution_count": 26,
   "id": "7b3e54b3",
   "metadata": {},
   "outputs": [],
   "source": [
    "tr1 = '호준 -> 길동, 1코인'\n",
    "tr2 = '길동 -> 미자, 2코인'\n",
    "tr3 = '춘향 -> 준호, 3코인'\n",
    "tr4 = '준길 -> 상호, 1코인'\n",
    "tr5 = '나미 -> 준호, 3코인'\n",
    "tr6 = '정자 -> 미자, 2코인'"
   ]
  },
  {
   "cell_type": "code",
   "execution_count": 37,
   "id": "0fee7eb1",
   "metadata": {},
   "outputs": [],
   "source": [
    "class bitCoin:\n",
    "    def __init__(self, 앞블록해쉬, 트랜젝션리스트):\n",
    "        self.앞블록해쉬 = 앞블록해쉬\n",
    "        self.트랜젝션리스트 = 트랜젝션리스트\n",
    "        self.블록 = \"- 트렌젝션 :\" + \" \\n - 트렌젝션 : \".join(트랜젝션리스트) + \\\n",
    "        \" \\n - 앞블록해쉬 :\" + 앞블록해쉬\n",
    "        self.블록해쉬 = hashlib.sha256(self.블록.encode()).hexdigest()"
   ]
  },
  {
   "cell_type": "code",
   "execution_count": 38,
   "id": "1a041f12",
   "metadata": {},
   "outputs": [],
   "source": [
    "블록1 = bitCoin('random_initial_text', [tr1, tr2])"
   ]
  },
  {
   "cell_type": "code",
   "execution_count": 39,
   "id": "2e240339",
   "metadata": {},
   "outputs": [
    {
     "data": {
      "text/plain": [
       "'- 트렌젝션 :호준 -> 길동, 1코인 \\n - 트렌젝션 : 길동 -> 미자, 2코인 \\n - 앞블록해쉬 :random_initial_text'"
      ]
     },
     "execution_count": 39,
     "metadata": {},
     "output_type": "execute_result"
    }
   ],
   "source": [
    "블록1.블록"
   ]
  },
  {
   "cell_type": "code",
   "execution_count": 40,
   "id": "3d5a0b21",
   "metadata": {},
   "outputs": [
    {
     "data": {
      "text/plain": [
       "'da4252aad3953106a8e4333357dc1ddd7a50dce290a2bd9bfaa4750e385dbd18'"
      ]
     },
     "execution_count": 40,
     "metadata": {},
     "output_type": "execute_result"
    }
   ],
   "source": [
    "블록1.블록해쉬"
   ]
  },
  {
   "cell_type": "code",
   "execution_count": null,
   "id": "36c650cd",
   "metadata": {},
   "outputs": [],
   "source": []
  },
  {
   "cell_type": "code",
   "execution_count": 41,
   "id": "437ed903",
   "metadata": {},
   "outputs": [],
   "source": [
    "블록2 = bitCoin(블록1.블록해쉬, [tr3, tr4])"
   ]
  },
  {
   "cell_type": "code",
   "execution_count": 42,
   "id": "def63b9f",
   "metadata": {},
   "outputs": [
    {
     "data": {
      "text/plain": [
       "'- 트렌젝션 :춘향 -> 준호, 3코인 \\n - 트렌젝션 : 준길 -> 상호, 1코인 \\n - 앞블록해쉬 :da4252aad3953106a8e4333357dc1ddd7a50dce290a2bd9bfaa4750e385dbd18'"
      ]
     },
     "execution_count": 42,
     "metadata": {},
     "output_type": "execute_result"
    }
   ],
   "source": [
    "블록2.블록"
   ]
  },
  {
   "cell_type": "code",
   "execution_count": 43,
   "id": "f5eb0672",
   "metadata": {},
   "outputs": [
    {
     "data": {
      "text/plain": [
       "'564818a31883f75b41f66c14bfa98f1e86ac3ca9a3a6e7cb7fc02b6ac7d165dc'"
      ]
     },
     "execution_count": 43,
     "metadata": {},
     "output_type": "execute_result"
    }
   ],
   "source": [
    "블록2.블록해쉬"
   ]
  },
  {
   "cell_type": "code",
   "execution_count": null,
   "id": "f966859e",
   "metadata": {},
   "outputs": [],
   "source": []
  },
  {
   "cell_type": "code",
   "execution_count": 44,
   "id": "55e4a2f6",
   "metadata": {},
   "outputs": [],
   "source": [
    "블록3 = bitCoin(블록2.블록해쉬, [tr5, tr6])"
   ]
  },
  {
   "cell_type": "code",
   "execution_count": 45,
   "id": "e9c91ebd",
   "metadata": {},
   "outputs": [
    {
     "data": {
      "text/plain": [
       "'- 트렌젝션 :나미 -> 준호, 3코인 \\n - 트렌젝션 : 정자 -> 미자, 2코인 \\n - 앞블록해쉬 :564818a31883f75b41f66c14bfa98f1e86ac3ca9a3a6e7cb7fc02b6ac7d165dc'"
      ]
     },
     "execution_count": 45,
     "metadata": {},
     "output_type": "execute_result"
    }
   ],
   "source": [
    "블록3.블록"
   ]
  },
  {
   "cell_type": "code",
   "execution_count": 46,
   "id": "fa1abd9d",
   "metadata": {},
   "outputs": [
    {
     "data": {
      "text/plain": [
       "'cece28bbb694eba62e6f208bd1b9211d3f0ca21597ed81ee058984749ce6f507'"
      ]
     },
     "execution_count": 46,
     "metadata": {},
     "output_type": "execute_result"
    }
   ],
   "source": [
    "블록3.블록해쉬"
   ]
  },
  {
   "cell_type": "code",
   "execution_count": null,
   "id": "b11583ae",
   "metadata": {},
   "outputs": [],
   "source": []
  },
  {
   "cell_type": "code",
   "execution_count": null,
   "id": "f1d4cb8a",
   "metadata": {},
   "outputs": [],
   "source": []
  },
  {
   "cell_type": "code",
   "execution_count": null,
   "id": "d557a7b1",
   "metadata": {},
   "outputs": [],
   "source": []
  },
  {
   "cell_type": "code",
   "execution_count": null,
   "id": "93ec524c",
   "metadata": {},
   "outputs": [],
   "source": []
  },
  {
   "cell_type": "code",
   "execution_count": null,
   "id": "74a0ade5",
   "metadata": {},
   "outputs": [],
   "source": []
  }
 ],
 "metadata": {
  "kernelspec": {
   "display_name": "Python 3 (ipykernel)",
   "language": "python",
   "name": "python3"
  },
  "language_info": {
   "codemirror_mode": {
    "name": "ipython",
    "version": 3
   },
   "file_extension": ".py",
   "mimetype": "text/x-python",
   "name": "python",
   "nbconvert_exporter": "python",
   "pygments_lexer": "ipython3",
   "version": "3.7.11"
  }
 },
 "nbformat": 4,
 "nbformat_minor": 5
}
