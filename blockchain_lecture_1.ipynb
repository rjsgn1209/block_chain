{
 "cells": [
  {
   "cell_type": "code",
   "execution_count": 1,
   "id": "439509ae",
   "metadata": {},
   "outputs": [],
   "source": [
    "import hashlib"
   ]
  },
  {
   "cell_type": "code",
   "execution_count": 3,
   "id": "91e86159",
   "metadata": {
    "collapsed": true
   },
   "outputs": [
    {
     "ename": "TypeError",
     "evalue": "'module' object is not callable",
     "output_type": "error",
     "traceback": [
      "\u001b[1;31m---------------------------------------------------------------------------\u001b[0m",
      "\u001b[1;31mTypeError\u001b[0m                                 Traceback (most recent call last)",
      "\u001b[1;32m~\\AppData\\Local\\Temp/ipykernel_5468/1256276525.py\u001b[0m in \u001b[0;36m<module>\u001b[1;34m\u001b[0m\n\u001b[1;32m----> 1\u001b[1;33m \u001b[0mh\u001b[0m \u001b[1;33m=\u001b[0m \u001b[0mhashlib\u001b[0m\u001b[1;33m(\u001b[0m\u001b[1;33m)\u001b[0m\u001b[1;33m\u001b[0m\u001b[1;33m\u001b[0m\u001b[0m\n\u001b[0m",
      "\u001b[1;31mTypeError\u001b[0m: 'module' object is not callable"
     ]
    }
   ],
   "source": [
    "h = hashlib()"
   ]
  },
  {
   "cell_type": "code",
   "execution_count": 4,
   "id": "c1ccf24a",
   "metadata": {
    "collapsed": true
   },
   "outputs": [
    {
     "ename": "NameError",
     "evalue": "name 'h' is not defined",
     "output_type": "error",
     "traceback": [
      "\u001b[1;31m---------------------------------------------------------------------------\u001b[0m",
      "\u001b[1;31mNameError\u001b[0m                                 Traceback (most recent call last)",
      "\u001b[1;32m~\\AppData\\Local\\Temp/ipykernel_5468/3108184840.py\u001b[0m in \u001b[0;36m<module>\u001b[1;34m\u001b[0m\n\u001b[1;32m----> 1\u001b[1;33m \u001b[0mh\u001b[0m\u001b[1;33m.\u001b[0m\u001b[0mupdate\u001b[0m\u001b[1;33m(\u001b[0m\u001b[1;34mb'Genesilis'\u001b[0m\u001b[1;33m)\u001b[0m\u001b[1;33m\u001b[0m\u001b[1;33m\u001b[0m\u001b[0m\n\u001b[0m\u001b[0;32m      2\u001b[0m \u001b[0mh\u001b[0m\u001b[1;33m.\u001b[0m\u001b[0mhedigest\u001b[0m\u001b[1;33m(\u001b[0m\u001b[1;33m)\u001b[0m\u001b[1;33m\u001b[0m\u001b[1;33m\u001b[0m\u001b[0m\n",
      "\u001b[1;31mNameError\u001b[0m: name 'h' is not defined"
     ]
    }
   ],
   "source": [
    "h.update(b'Genesilis')\n",
    "h.hedigest()"
   ]
  },
  {
   "cell_type": "code",
   "execution_count": null,
   "id": "67f2a05f",
   "metadata": {},
   "outputs": [],
   "source": []
  },
  {
   "cell_type": "code",
   "execution_count": 21,
   "id": "7914b1ee",
   "metadata": {},
   "outputs": [],
   "source": [
    "import os\n",
    "\n",
    "def save_password():\n",
    "    with open('passwd.txt', 'w') as f:\n",
    "        passwd = input('패스워드를 입력하세요')\n",
    "        result = hashlib.sha256(passwd.encode())\n",
    "        f.write(result.hexdigest())"
   ]
  },
  {
   "cell_type": "code",
   "execution_count": 22,
   "id": "5c1fbdf9",
   "metadata": {},
   "outputs": [
    {
     "name": "stdout",
     "output_type": "stream",
     "text": [
      "패스워드를 입력하세요1234\n"
     ]
    }
   ],
   "source": [
    "save_password()"
   ]
  },
  {
   "cell_type": "code",
   "execution_count": null,
   "id": "510003ba",
   "metadata": {},
   "outputs": [],
   "source": []
  },
  {
   "cell_type": "code",
   "execution_count": 30,
   "id": "407bf8b9",
   "metadata": {},
   "outputs": [],
   "source": [
    "def check_passwd():\n",
    "    if os.path.exists('passwd.txt'):\n",
    "        before_passwd = input('기존의 비밀번호를 입력하세요')\n",
    "        m = hashlib.sha256()\n",
    "        m.update(before_passwd.encode('utf_8'))\n",
    "        \n",
    "        with open('passwd.txt', 'r') as f:\n",
    "            comp = str(m.hexdigest()).strip() == str(f.read()).strip()\n",
    "            return comp\n",
    "    else:\n",
    "        return True                "
   ]
  },
  {
   "cell_type": "code",
   "execution_count": 31,
   "id": "8e21337e",
   "metadata": {},
   "outputs": [
    {
     "name": "stdout",
     "output_type": "stream",
     "text": [
      "기존의 비밀번호를 입력하세요\n"
     ]
    },
    {
     "data": {
      "text/plain": [
       "False"
      ]
     },
     "execution_count": 31,
     "metadata": {},
     "output_type": "execute_result"
    }
   ],
   "source": [
    "check_password()"
   ]
  },
  {
   "cell_type": "code",
   "execution_count": null,
   "id": "c52d977c",
   "metadata": {},
   "outputs": [],
   "source": []
  },
  {
   "cell_type": "code",
   "execution_count": 32,
   "id": "d5a61678",
   "metadata": {},
   "outputs": [],
   "source": [
    "def change_passwd():\n",
    "    if check_passwd():\n",
    "        with open('passwd.txt', 'w') as f:\n",
    "            passwd = input('새로운 비밀번호를 입력하세요')\n",
    "            result = hashlib.sha256(passwd.encode())\n",
    "            f.write(result.hexdigest())\n",
    "    else:\n",
    "        print('비밀번호가 틀립니다')"
   ]
  },
  {
   "cell_type": "code",
   "execution_count": 33,
   "id": "e3e6beba",
   "metadata": {},
   "outputs": [
    {
     "name": "stdout",
     "output_type": "stream",
     "text": [
      "기존의 비밀번호를 입력하세요1234\n",
      "새로운 비밀번호를 입력하세요1234\n"
     ]
    }
   ],
   "source": [
    "change_passwd()"
   ]
  },
  {
   "cell_type": "code",
   "execution_count": null,
   "id": "a90664d5",
   "metadata": {},
   "outputs": [],
   "source": []
  },
  {
   "cell_type": "code",
   "execution_count": 36,
   "id": "4746c7c7",
   "metadata": {},
   "outputs": [],
   "source": [
    "text = \"\"\"\n",
    "손흥민의 응원가를 불렀다.\n",
    "\n",
    "새벽 홍대 앞서 손흥민 응원가 울려 퍼져\n",
    "22일 자정 기자가 방문한 홍대의 한 술집은 손흥민의 경기가 열리기 전부터 영국 노리치의 캐로 로드를 방불케 하는 열기로 뜨거웠다. 경기 시작 30분 전 20명 안팎이던 손님은 경기가 시작한 자정쯤 60명이 넘어 만석이 됐다.\n",
    "\n",
    "전반전, 손흥민에게 이렇다 할 찬스가 오지 않자 손님들은 “제발 한 골만”이라고 소리치기도 했다. 후반 29분 손흥민의 결정적인 슈팅이 상대편의 골키퍼에 막혔을 때는 함성과 절규가 터져 나왔다. 두 번째 골을 넣은 손흥민의 환호가 TV 화면에 잡히자 “정말로 EPL에서 득점왕을 하다니”라며 못 믿겠다는 반응을 보였다.\n",
    "\"\"\""
   ]
  },
  {
   "cell_type": "code",
   "execution_count": null,
   "id": "acfae5fb",
   "metadata": {},
   "outputs": [],
   "source": []
  },
  {
   "cell_type": "code",
   "execution_count": 37,
   "id": "80d4991f",
   "metadata": {},
   "outputs": [
    {
     "name": "stdout",
     "output_type": "stream",
     "text": [
      "9b4768319c04809522244748e88e38cf496e10591a7536f994c3beafd0c48cd5\n"
     ]
    }
   ],
   "source": [
    "m = hashlib.sha256()\n",
    "m.update(text.encode('utf_8'))\n",
    "print(m.hexdigest())"
   ]
  },
  {
   "cell_type": "code",
   "execution_count": null,
   "id": "66d2a5bb",
   "metadata": {},
   "outputs": [],
   "source": []
  },
  {
   "cell_type": "code",
   "execution_count": 38,
   "id": "054644c5",
   "metadata": {},
   "outputs": [],
   "source": [
    "# 채굴 (minning)\n",
    "\n",
    "# 특정한 조건을 만족하는 hash값을 찾는 연산을 반복하는 것..\n",
    "# 채굴에 성공한 경우에만 블럭에 채인에 연결이 됨...\n",
    "# 채굴에 성공하면 보상으로 코인을 받는다.."
   ]
  },
  {
   "cell_type": "code",
   "execution_count": 50,
   "id": "2b396308",
   "metadata": {},
   "outputs": [
    {
     "name": "stdout",
     "output_type": "stream",
     "text": [
      "10000000000\n",
      "Hash : 0000000f34c4fdef23f55fa80fa9fc33afb696d533fcb8832d7d2bff7abbcd43\n",
      "Nounce : 205444203\n",
      "Minning took 372.564772605896st\n"
     ]
    }
   ],
   "source": [
    "from hashlib import sha256\n",
    "import time\n",
    "\n",
    "max_nounce = int(1e10)\n",
    "difficulty = 7\n",
    "\n",
    "block_number = 667745\n",
    "transactions = \"\"\"\n",
    "A -> B : 10\n",
    "D -> A : 99\n",
    "C -> Z : 1\n",
    "\"\"\"\n",
    "\n",
    "previous_hash = '9b4768319c04809522244748e88e38cf496e10591a7536f994c3beafd0c48cd5'\n",
    "\n",
    "new_hast = None\n",
    "\n",
    "st_time = time.time()\n",
    "\n",
    "for nounce in range(max_nounce):\n",
    "    block_header = str(block_number) + transactions + previous_hash + str(nounce)\n",
    "    new_hash = sha256(block_header.encode('ascii')).hexdigest()\n",
    "    \n",
    "    if new_hash.startswith('0' * difficulty):\n",
    "        print(f'Hash : {new_hash}')\n",
    "        print(f\"Nounce : {nounce}\")\n",
    "        break\n",
    "\n",
    "if new_hash is None:\n",
    "    print('cannot find new hash')\n",
    "    \n",
    "print(f\"Minning took {time.time() - st_time}st\")"
   ]
  },
  {
   "cell_type": "code",
   "execution_count": null,
   "id": "23337af0",
   "metadata": {},
   "outputs": [],
   "source": []
  },
  {
   "cell_type": "code",
   "execution_count": 51,
   "id": "dfa6c9ee",
   "metadata": {},
   "outputs": [],
   "source": [
    "# chain 구성\n",
    "# transaction > block > 채굴 > chain 추가"
   ]
  },
  {
   "cell_type": "code",
   "execution_count": 57,
   "id": "c22dd870",
   "metadata": {},
   "outputs": [],
   "source": [
    "tr1 = '호준 -> 길동, 1코인'\n",
    "tr2 = '길동 -> 미자, 2코인'\n",
    "tr3 = '춘향 -> 준호, 3코인'\n",
    "tr4 = '준길 -> 상호, 1코인'\n",
    "tr5 = '나미 -> 준호, 3코인'\n",
    "tr6 = '정자 -> 미자, 2코인'"
   ]
  },
  {
   "cell_type": "code",
   "execution_count": null,
   "id": "540b5bb4",
   "metadata": {},
   "outputs": [],
   "source": []
  },
  {
   "cell_type": "code",
   "execution_count": 64,
   "id": "edd047c3",
   "metadata": {},
   "outputs": [],
   "source": [
    "class bitCoin:\n",
    "    def __init__(self, 앞블록해쉬, 트렌잭션리스트):\n",
    "        \n",
    "        self.앞블록해쉬 = 앞블록해쉬\n",
    "        self.트렌잭션리스트 = 트렌잭션리스트\n",
    "        self.블록 = \"- 트렌잭션 :\" +  \"\\n- 트렌젝션 : \".join(트렌잭션리스트) + \\\n",
    "        \"\\n - 앞블록해쉬 : \" + 앞블록해쉬\n",
    "        self.블록해쉬 = hashlib.sha256(self.블록.encode()).hexdigest()"
   ]
  },
  {
   "cell_type": "code",
   "execution_count": 67,
   "id": "5d79f630",
   "metadata": {},
   "outputs": [
    {
     "data": {
      "text/plain": [
       "'- 트렌잭션 :호준 -> 길동, 1코인\\n- 트렌젝션 : 길동 -> 미자, 2코인\\n - 앞블록해쉬 : random_initial.text'"
      ]
     },
     "execution_count": 67,
     "metadata": {},
     "output_type": "execute_result"
    }
   ],
   "source": [
    "블록1 = bitCoin('random_initial.text', [tr1, tr2])\n",
    "블록1.블록"
   ]
  },
  {
   "cell_type": "code",
   "execution_count": 68,
   "id": "b06a9776",
   "metadata": {},
   "outputs": [
    {
     "data": {
      "text/plain": [
       "'34105a30f85739a13337b286c9c06eee148c9d3559b6e712e1c2aa65628a2a6a'"
      ]
     },
     "execution_count": 68,
     "metadata": {},
     "output_type": "execute_result"
    }
   ],
   "source": [
    "블록1.블록해쉬"
   ]
  },
  {
   "cell_type": "code",
   "execution_count": null,
   "id": "565b56cc",
   "metadata": {},
   "outputs": [],
   "source": []
  },
  {
   "cell_type": "code",
   "execution_count": 73,
   "id": "97712184",
   "metadata": {},
   "outputs": [],
   "source": [
    "블록2 = bitCoin(블록1.블록해쉬, [tr3, tr4])"
   ]
  },
  {
   "cell_type": "code",
   "execution_count": 74,
   "id": "4bb4f5ee",
   "metadata": {},
   "outputs": [
    {
     "data": {
      "text/plain": [
       "'- 트렌잭션 :춘향 -> 준호, 3코인\\n- 트렌젝션 : 준길 -> 상호, 1코인\\n - 앞블록해쉬 : 34105a30f85739a13337b286c9c06eee148c9d3559b6e712e1c2aa65628a2a6a'"
      ]
     },
     "execution_count": 74,
     "metadata": {},
     "output_type": "execute_result"
    }
   ],
   "source": [
    "블록2.블록"
   ]
  },
  {
   "cell_type": "code",
   "execution_count": 75,
   "id": "b00a2f1b",
   "metadata": {},
   "outputs": [
    {
     "data": {
      "text/plain": [
       "'17d49cdcf50bfd3792f69f41e1ef7906a199bf94acc6a60cc58833f7c98d80f4'"
      ]
     },
     "execution_count": 75,
     "metadata": {},
     "output_type": "execute_result"
    }
   ],
   "source": [
    "블록2.블록해쉬"
   ]
  },
  {
   "cell_type": "code",
   "execution_count": null,
   "id": "9b46f222",
   "metadata": {},
   "outputs": [],
   "source": []
  },
  {
   "cell_type": "code",
   "execution_count": 76,
   "id": "8c9f1410",
   "metadata": {},
   "outputs": [],
   "source": [
    "블록3 = bitCoin(블록2.블록해쉬, [tr5, tr6])"
   ]
  },
  {
   "cell_type": "code",
   "execution_count": 78,
   "id": "08da9584",
   "metadata": {},
   "outputs": [
    {
     "data": {
      "text/plain": [
       "'- 트렌잭션 :나미 -> 준호, 3코인\\n- 트렌젝션 : 정자 -> 미자, 2코인\\n - 앞블록해쉬 : 17d49cdcf50bfd3792f69f41e1ef7906a199bf94acc6a60cc58833f7c98d80f4'"
      ]
     },
     "execution_count": 78,
     "metadata": {},
     "output_type": "execute_result"
    }
   ],
   "source": [
    "블록3.블록"
   ]
  },
  {
   "cell_type": "code",
   "execution_count": 79,
   "id": "6c497c58",
   "metadata": {},
   "outputs": [
    {
     "data": {
      "text/plain": [
       "'7b65ae942982f22773462ae5cb0df37bc9a32783f675607039211e9614267dc5'"
      ]
     },
     "execution_count": 79,
     "metadata": {},
     "output_type": "execute_result"
    }
   ],
   "source": [
    "블록3.블록해쉬"
   ]
  }
 ],
 "metadata": {
  "kernelspec": {
   "display_name": "Python 3 (ipykernel)",
   "language": "python",
   "name": "python3"
  },
  "language_info": {
   "codemirror_mode": {
    "name": "ipython",
    "version": 3
   },
   "file_extension": ".py",
   "mimetype": "text/x-python",
   "name": "python",
   "nbconvert_exporter": "python",
   "pygments_lexer": "ipython3",
   "version": "3.9.7"
  }
 },
 "nbformat": 4,
 "nbformat_minor": 5
}
